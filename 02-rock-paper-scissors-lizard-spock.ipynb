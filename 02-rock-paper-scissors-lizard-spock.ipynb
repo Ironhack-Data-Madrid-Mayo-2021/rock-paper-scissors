{
 "cells": [
  {
   "cell_type": "markdown",
   "id": "usual-addiction",
   "metadata": {},
   "source": [
    "# Rock, Paper, Scissors, Lizard & Spock\n",
    "![](images/rpsls.jpg)\n",
    "\n",
    "In this challenge, you need to improve the previous game by adding two new options. To know more about the rules of the improved version of rock, paper, scissors, check this [link](http://www.samkass.com/theories/RPSSL.html). \n",
    "\n",
    "In addition, you will also need to improve how the game interacts with the player: the number of rounds to play, which must be an odd number, will be requested to the user until a valid number is entered. Define a new function to make that request.\n",
    "\n",
    "**Hint**: Try to reuse the code that you already coded in the previous challenge. If your code is efficient, this bonus will only consist of simple modifications to the original game."
   ]
  },
  {
   "cell_type": "code",
   "execution_count": 3,
   "id": "surgical-outline",
   "metadata": {},
   "outputs": [],
   "source": [
    "# Import the choice function of the random module.\n",
    "import random"
   ]
  },
  {
   "cell_type": "code",
   "execution_count": 4,
   "id": "46098a06",
   "metadata": {},
   "outputs": [],
   "source": [
    "# Create a list that includes the 3 possible gesture options of the game: 'rock', 'paper', 'scissors', 'lizard', or 'spock'\n",
    "gestspock = ['rock', 'paper', 'scissors', 'lizard', 'spock']"
   ]
  },
  {
   "cell_type": "code",
   "execution_count": 5,
   "id": "07c1a702",
   "metadata": {},
   "outputs": [],
   "source": [
    "# Create rounds variable\n",
    "n_rounds = 0"
   ]
  },
  {
   "cell_type": "code",
   "execution_count": 6,
   "id": "d341e124",
   "metadata": {},
   "outputs": [],
   "source": [
    "# Create max number of rounds variable\n",
    "rounds_to_win = int(n_rounds/2) + 1"
   ]
  },
  {
   "cell_type": "code",
   "execution_count": 7,
   "id": "174cb992",
   "metadata": {},
   "outputs": [],
   "source": [
    "# Create cpu and player score variables\n",
    "cpu_score = 0\n",
    "player_score = 0"
   ]
  },
  {
   "cell_type": "code",
   "execution_count": 8,
   "id": "7c58006f",
   "metadata": {},
   "outputs": [],
   "source": [
    "# Define a function that randomly returns one of the 5 gesture options.\n",
    "def random_selector(arr):\n",
    "    return random.choice(arr)"
   ]
  },
  {
   "cell_type": "code",
   "execution_count": 9,
   "id": "1a7c3637",
   "metadata": {},
   "outputs": [
    {
     "data": {
      "text/plain": [
       "'rock'"
      ]
     },
     "execution_count": 9,
     "metadata": {},
     "output_type": "execute_result"
    }
   ],
   "source": [
    "random_selector(gestspock)"
   ]
  },
  {
   "cell_type": "code",
   "execution_count": 10,
   "id": "e114bde6",
   "metadata": {},
   "outputs": [],
   "source": [
    "# Define a function that asks the player which is the gesture he or she wants to show\n",
    "def player_move():\n",
    "    choice = str(input(\"Make your move: \"))\n",
    "    while choice not in gestspock:\n",
    "        choice = input(\"Please enter a correct move: \")\n",
    "    return choice"
   ]
  },
  {
   "cell_type": "code",
   "execution_count": 11,
   "id": "bf421ef5",
   "metadata": {},
   "outputs": [
    {
     "name": "stdout",
     "output_type": "stream",
     "text": [
      "Make your move: spock\n"
     ]
    },
    {
     "data": {
      "text/plain": [
       "'spock'"
      ]
     },
     "execution_count": 11,
     "metadata": {},
     "output_type": "execute_result"
    }
   ],
   "source": [
    "player_move()"
   ]
  },
  {
   "cell_type": "code",
   "execution_count": 12,
   "id": "d02064b7",
   "metadata": {},
   "outputs": [],
   "source": [
    "# Define a function that checks who won the game\n",
    "\n",
    "def game(player_choice, cpu_choice):\n",
    "    \n",
    "    if player_choice == cpu_choice:\n",
    "        return 0\n",
    "    elif player_choice == \"rock\":\n",
    "        if cpu_choice == \"paper\" or cpu_choice == \"spock\":\n",
    "            return 1\n",
    "        else:\n",
    "            return 2\n",
    "    elif player_choice == \"paper\":\n",
    "        if cpu_choice == \"scissors\" or cpu_choice == \"lizard\":\n",
    "            return 1\n",
    "        else:\n",
    "            return 2\n",
    "    elif player_choice == \"scissors\":\n",
    "        if cpu_choice == \"rock\" or cpu_choice == \"spock\":\n",
    "            return 1\n",
    "        else:\n",
    "            return 2\n",
    "    elif player_choice == \"lizard\":\n",
    "        if cpu_choice == \"rock\" or cpu_choice == \"scissors\":\n",
    "            return 1\n",
    "        else:\n",
    "            return 2\n",
    "    elif player_choice == \"spock\":\n",
    "        if cpu_choice == \"lizard\" or cpu_choice == \"paper\":\n",
    "            return 1\n",
    "        else:\n",
    "            return 2"
   ]
  },
  {
   "cell_type": "code",
   "execution_count": 13,
   "id": "b733a00f",
   "metadata": {},
   "outputs": [
    {
     "name": "stdout",
     "output_type": "stream",
     "text": [
      "Make your move: lizard\n"
     ]
    },
    {
     "data": {
      "text/plain": [
       "2"
      ]
     },
     "execution_count": 13,
     "metadata": {},
     "output_type": "execute_result"
    }
   ],
   "source": [
    "game(player_move(), random_selector(gestspock))"
   ]
  },
  {
   "cell_type": "code",
   "execution_count": 16,
   "id": "5fcfbfcd",
   "metadata": {},
   "outputs": [],
   "source": [
    "# Define a function that prints the choice of the computer, the choice of the player and a message that announces who won the current round\n",
    "\n",
    "def round_outcome():\n",
    "    player_choice = player_move()\n",
    "    cpu_choice = random_selector(gestspock)\n",
    "    game_out = game(player_choice, cpu_choice) \n",
    "    \n",
    "    print(f\"The player move was {player_choice}\")\n",
    "    print(f\"The cpu move was {cpu_choice}\")\n",
    "        \n",
    "    if game_out == 0:\n",
    "        print(\"The round ended in a tie\")\n",
    "        return 0\n",
    "    elif game_out == 1:\n",
    "        print(\"The cpu won this round\")\n",
    "        return 1\n",
    "    elif game_out == 2:\n",
    "        print(\"The player won this round\")\n",
    "        return 2"
   ]
  },
  {
   "cell_type": "code",
   "execution_count": 17,
   "id": "8c5fe1a7",
   "metadata": {},
   "outputs": [
    {
     "name": "stdout",
     "output_type": "stream",
     "text": [
      "Make your move: scissors\n",
      "The player move was scissors\n",
      "The cpu move was spock\n",
      "The cpu won this round\n"
     ]
    },
    {
     "data": {
      "text/plain": [
       "1"
      ]
     },
     "execution_count": 17,
     "metadata": {},
     "output_type": "execute_result"
    }
   ],
   "source": [
    "round_outcome()"
   ]
  },
  {
   "cell_type": "code",
   "execution_count": 18,
   "id": "e6d0e74e",
   "metadata": {},
   "outputs": [
    {
     "name": "stdout",
     "output_type": "stream",
     "text": [
      "Please enter number of rounds you want to play: 3\n",
      "\n",
      "\n",
      "Make your move: spock\n",
      "The player move was spock\n",
      "The cpu move was lizard\n",
      "The cpu won this round\n",
      "Current cpu score is: 1\n",
      "Current player score is: 0\n",
      "\n",
      "\n",
      "Make your move: lizard\n",
      "The player move was lizard\n",
      "The cpu move was paper\n",
      "The player won this round\n",
      "Current cpu score is: 1\n",
      "Current player score is: 1\n",
      "\n",
      "\n",
      "Make your move: paper\n",
      "The player move was paper\n",
      "The cpu move was lizard\n",
      "The cpu won this round\n",
      "Current cpu score is: 2\n",
      "Current player score is: 1\n",
      "\n",
      "\n"
     ]
    }
   ],
   "source": [
    "# Code game execution\n",
    "\n",
    "n_rounds = int(input(\"Please enter number of rounds you want to play: \"))\n",
    "rounds_to_win = int(n_rounds / 2) + 1\n",
    "cpu_score = 0\n",
    "player_score = 0\n",
    "game_count = 0\n",
    "\n",
    "print('\\n')\n",
    "\n",
    "while cpu_score < rounds_to_win and player_score < rounds_to_win and game_count < n_rounds:\n",
    "    round_output = round_outcome()\n",
    "    game_count += 1\n",
    "    if round_output == 1:\n",
    "        cpu_score += 1\n",
    "    elif round_output == 2:\n",
    "        player_score += 1\n",
    "        \n",
    "    print(\"Current cpu score is:\", cpu_score)\n",
    "    print(\"Current player score is:\", player_score)\n",
    "    print('\\n')"
   ]
  },
  {
   "cell_type": "code",
   "execution_count": 19,
   "id": "1a1945ec",
   "metadata": {},
   "outputs": [
    {
     "name": "stdout",
     "output_type": "stream",
     "text": [
      "Please enter number of rounds you want to play: 2\n",
      "\n",
      "\n",
      "Make your move: paper\n",
      "The player move was paper\n",
      "The cpu move was rock\n",
      "The player won this round\n",
      "Current cpu score is: 0\n",
      "Current player score is: 1\n",
      "\n",
      "\n",
      "Make your move: spock\n",
      "The player move was spock\n",
      "The cpu move was scissors\n",
      "The player won this round\n",
      "Current cpu score is: 0\n",
      "Current player score is: 2\n",
      "\n",
      "\n",
      "Congrats! You won the game!\n"
     ]
    }
   ],
   "source": [
    "# Print the winner of the game based on who won more rounds\n",
    "\n",
    "n_rounds = int(input(\"Please enter number of rounds you want to play: \"))\n",
    "rounds_to_win = int(n_rounds / 2) + 1\n",
    "cpu_score = 0\n",
    "player_score = 0\n",
    "game_count = 0\n",
    "\n",
    "print('\\n')\n",
    "\n",
    "while cpu_score < rounds_to_win and player_score < rounds_to_win and game_count < n_rounds:\n",
    "    round_output = round_outcome()\n",
    "    game_count += 1\n",
    "    if round_output == 1:\n",
    "        cpu_score += 1\n",
    "    elif round_output == 2:\n",
    "        player_score += 1\n",
    "        \n",
    "    print(\"Current cpu score is:\", cpu_score)\n",
    "    print(\"Current player score is:\", player_score)\n",
    "    print('\\n')\n",
    "    \n",
    "if cpu_score > player_score:\n",
    "    print(\"The CPU won the game!\")\n",
    "elif player_score > cpu_score:\n",
    "    print(\"Congrats! You won the game!\")\n",
    "else:\n",
    "    print(\"It's a tie!\")"
   ]
  },
  {
   "cell_type": "code",
   "execution_count": null,
   "id": "52f106ba",
   "metadata": {},
   "outputs": [],
   "source": []
  }
 ],
 "metadata": {
  "kernelspec": {
   "display_name": "ironhack",
   "language": "python",
   "name": "ironhack"
  },
  "language_info": {
   "codemirror_mode": {
    "name": "ipython",
    "version": 3
   },
   "file_extension": ".py",
   "mimetype": "text/x-python",
   "name": "python",
   "nbconvert_exporter": "python",
   "pygments_lexer": "ipython3",
   "version": "3.8.10"
  },
  "toc": {
   "base_numbering": 1,
   "nav_menu": {},
   "number_sections": true,
   "sideBar": true,
   "skip_h1_title": false,
   "title_cell": "Table of Contents",
   "title_sidebar": "Contents",
   "toc_cell": false,
   "toc_position": {},
   "toc_section_display": true,
   "toc_window_display": false
  }
 },
 "nbformat": 4,
 "nbformat_minor": 5
}
