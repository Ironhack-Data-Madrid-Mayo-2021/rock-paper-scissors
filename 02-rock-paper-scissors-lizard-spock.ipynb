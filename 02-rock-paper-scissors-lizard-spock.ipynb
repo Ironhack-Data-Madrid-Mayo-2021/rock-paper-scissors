{
 "cells": [
  {
   "cell_type": "markdown",
   "id": "usual-addiction",
   "metadata": {},
   "source": [
    "# Rock, Paper, Scissors, Lizard & Spock\n",
    "![](images/rpsls.jpg)\n",
    "\n",
    "In this challenge, you need to improve the previous game by adding two new options. To know more about the rules of the improved version of rock, paper, scissors, check this [link](http://www.samkass.com/theories/RPSSL.html). \n",
    "\n",
    "In addition, you will also need to improve how the game interacts with the player: the number of rounds to play, which must be an odd number, will be requested to the user until a valid number is entered. Define a new function to make that request.\n",
    "\n",
    "**Hint**: Try to reuse the code that you already coded in the previous challenge. If your code is efficient, this bonus will only consist of simple modifications to the original game."
   ]
  },
  {
   "cell_type": "code",
   "execution_count": 37,
   "id": "surgical-outline",
   "metadata": {},
   "outputs": [],
   "source": [
    "import random"
   ]
  },
  {
   "cell_type": "code",
   "execution_count": 38,
   "id": "d07790dd",
   "metadata": {},
   "outputs": [],
   "source": [
    "gestures = [\"rock\", \"paper\",\"scissors\",\"spock\",\"lizard\"]"
   ]
  },
  {
   "cell_type": "code",
   "execution_count": 46,
   "id": "40693088",
   "metadata": {},
   "outputs": [],
   "source": [
    "#Al mejor de 3\n",
    "n_rounds = 3"
   ]
  },
  {
   "cell_type": "code",
   "execution_count": 40,
   "id": "6d85f546",
   "metadata": {},
   "outputs": [],
   "source": [
    "#Se que n_rounds es un número impar por lo que si so sumamos más 1 y lo dividimos entre dos me da el numero necesario para ganar\n",
    "rounds_to_win = (n_rounds+1)/2"
   ]
  },
  {
   "cell_type": "code",
   "execution_count": 41,
   "id": "50bccda8",
   "metadata": {},
   "outputs": [],
   "source": [
    "def gesture_machine():\n",
    "    machine = random.choice(gestures)\n",
    "    return machine"
   ]
  },
  {
   "cell_type": "code",
   "execution_count": 42,
   "id": "4fa9ec2f",
   "metadata": {},
   "outputs": [],
   "source": [
    "def gesture_player():\n",
    "    while True:\n",
    "        player = input (\"Choose one --> rock, paper, scissors, lizzard or spock: \")\n",
    "        if player in gestures:\n",
    "            return player\n",
    "            break\n",
    "        else:\n",
    "             print(\"This command is not valid, try again please!!\")"
   ]
  },
  {
   "cell_type": "code",
   "execution_count": 43,
   "id": "d78376f6",
   "metadata": {},
   "outputs": [],
   "source": [
    "def who_win(machine,player):\n",
    "    #para la piedra\n",
    "    if machine == \"rock\":\n",
    "        if player == \"scissors\":\n",
    "            return 1\n",
    "        elif player == \"paper\":\n",
    "            return 2\n",
    "        elif player == \"lizard\":\n",
    "            return 1\n",
    "        elif player == \"spock\":\n",
    "            return 2\n",
    "        else:\n",
    "            return 0\n",
    "        \n",
    "    #para las tijeras\n",
    "    if machine == \"scissors\":\n",
    "        if player == \"rock\":\n",
    "            return 1\n",
    "        elif player == \"paper\":\n",
    "            return 2\n",
    "        elif player == \"lizard\":\n",
    "            return 1\n",
    "        elif player == \"spock\":\n",
    "            return 2\n",
    "        else:\n",
    "            return 0\n",
    "        \n",
    "    #para el papel    \n",
    "    if machine == \"paper\":\n",
    "        if player == \"scissors\":\n",
    "            return 1\n",
    "        elif player == \"rock\":\n",
    "            return 2\n",
    "        elif player == \"lizard\":\n",
    "            return 2\n",
    "        elif player == \"spock\":\n",
    "            return 1\n",
    "        else:\n",
    "            return 0\n",
    "        \n",
    "    #para el lagarto    \n",
    "    if machine == \"lizard\":\n",
    "        if player == \"scissors\":\n",
    "            return 2\n",
    "        elif player == \"rock\":\n",
    "            return 2\n",
    "        elif player == \"paper\":\n",
    "            return 1\n",
    "        elif player == \"spock\":\n",
    "            return 1\n",
    "        else:\n",
    "            return 0\n",
    "        \n",
    "    #para el spock   \n",
    "    if machine == \"spock\":\n",
    "        if player == \"scissors\":\n",
    "            return 1\n",
    "        elif player == \"rock\":\n",
    "            return 1\n",
    "        elif player == \"paper\":\n",
    "            return 2\n",
    "        elif player == \"lizzard\":\n",
    "            return 2\n",
    "        else:\n",
    "            return 0\n",
    "        "
   ]
  },
  {
   "cell_type": "code",
   "execution_count": 44,
   "id": "de800c0c",
   "metadata": {},
   "outputs": [],
   "source": [
    "def gamestatus(machine,player):\n",
    "    #Gestos\n",
    "    print(\"Machine gesture: \", machine)\n",
    "    print(\"Player gesture: \" , player)\n",
    "    print(\"Round #\", round_, \" Machine wins:\", cpu_score,\" Player wins:\", player_score)\n",
    "    print (\"\\n\")"
   ]
  },
  {
   "cell_type": "code",
   "execution_count": 47,
   "id": "26c0667a",
   "metadata": {},
   "outputs": [
    {
     "name": "stdout",
     "output_type": "stream",
     "text": [
      "Choose one --> rock, paper, scissors, lizzard or spock: paper\n",
      "Machine gesture:  spock\n",
      "Player gesture:  paper\n",
      "Round # 1  Machine wins: 0  Player wins: 1\n",
      "\n",
      "\n",
      "Choose one --> rock, paper, scissors, lizzard or spock: spock\n",
      "Machine gesture:  rock\n",
      "Player gesture:  spock\n",
      "Round # 2  Machine wins: 0  Player wins: 2\n",
      "\n",
      "\n"
     ]
    }
   ],
   "source": [
    "round_= 0\n",
    "cpu_score = 0\n",
    "player_score = 0\n",
    "ties = 0\n",
    "\n",
    "while round_ < n_rounds and player_score < rounds_to_win and cpu_score < rounds_to_win:\n",
    "    \n",
    "    machine = gesture_machine()\n",
    "    player = gesture_player()\n",
    "    \n",
    "    #Condiciones + Resultados globales\n",
    "    if who_win (machine,player) == 1:\n",
    "        cpu_score += 1\n",
    "    elif who_win (machine,player) == 2:\n",
    "        player_score += 1\n",
    "    else:\n",
    "        tie +=1\n",
    "        print(\"Tie!\")\n",
    "    \n",
    "    #Ronda\n",
    "    round_ +=1\n",
    "    \n",
    "    gamestatus(machine,player)"
   ]
  },
  {
   "cell_type": "code",
   "execution_count": 49,
   "id": "839bf024",
   "metadata": {},
   "outputs": [
    {
     "name": "stdout",
     "output_type": "stream",
     "text": [
      "Hurray, You win!\n"
     ]
    }
   ],
   "source": [
    "if rounds_to_win <= cpu_score:\n",
    "    print (\"Sorry, Machine won game!\")\n",
    "elif rounds_to_win <= player_score:\n",
    "    print (\"Hurray, You win!\")\n",
    "else:\n",
    "    print(\"Tie, repeat?\")"
   ]
  }
 ],
 "metadata": {
  "kernelspec": {
   "display_name": "Python 3",
   "language": "python",
   "name": "python3"
  },
  "language_info": {
   "codemirror_mode": {
    "name": "ipython",
    "version": 3
   },
   "file_extension": ".py",
   "mimetype": "text/x-python",
   "name": "python",
   "nbconvert_exporter": "python",
   "pygments_lexer": "ipython3",
   "version": "3.9.5"
  },
  "toc": {
   "base_numbering": 1,
   "nav_menu": {},
   "number_sections": true,
   "sideBar": true,
   "skip_h1_title": false,
   "title_cell": "Table of Contents",
   "title_sidebar": "Contents",
   "toc_cell": false,
   "toc_position": {},
   "toc_section_display": true,
   "toc_window_display": false
  }
 },
 "nbformat": 4,
 "nbformat_minor": 5
}
