{
 "cells": [
  {
   "cell_type": "markdown",
   "id": "usual-addiction",
   "metadata": {},
   "source": [
    "# Rock, Paper, Scissors, Lizard & Spock\n",
    "![](images/rpsls.jpg)\n",
    "\n",
    "In this challenge, you need to improve the previous game by adding two new options. To know more about the rules of the improved version of rock, paper, scissors, check this [link](http://www.samkass.com/theories/RPSSL.html). \n",
    "\n",
    "In addition, you will also need to improve how the game interacts with the player: the number of rounds to play, which must be an odd number, will be requested to the user until a valid number is entered. Define a new function to make that request.\n",
    "\n",
    "**Hint**: Try to reuse the code that you already coded in the previous challenge. If your code is efficient, this bonus will only consist of simple modifications to the original game."
   ]
  },
  {
   "cell_type": "code",
   "execution_count": 1,
   "id": "surgical-outline",
   "metadata": {},
   "outputs": [],
   "source": [
    "import random"
   ]
  },
  {
   "cell_type": "code",
   "execution_count": 2,
   "id": "3d97a92e",
   "metadata": {},
   "outputs": [],
   "source": [
    "gestures2 = ['rock', 'paper', 'scissors', 'lizard', 'spook' ]"
   ]
  },
  {
   "cell_type": "code",
   "execution_count": 3,
   "id": "e88cc4b3",
   "metadata": {},
   "outputs": [
    {
     "name": "stdout",
     "output_type": "stream",
     "text": [
      "OYE!!!!!!!!! cuantas veces quieres a piedra, papel o tijeras conigo???? 9\n"
     ]
    }
   ],
   "source": [
    "num2 = int(input(\"OYE!!!!!!!!! cuantas veces quieres a piedra, papel o tijeras conigo???? \"))\n"
   ]
  },
  {
   "cell_type": "code",
   "execution_count": 6,
   "id": "8356c627",
   "metadata": {},
   "outputs": [],
   "source": [
    "n_rounds2 = []\n",
    "for i in range(1, num2 + 1, 2):\n",
    "    n_rounds2.append(i)\n",
    "    "
   ]
  },
  {
   "cell_type": "code",
   "execution_count": 10,
   "id": "dc9cab28",
   "metadata": {},
   "outputs": [],
   "source": [
    "rounds_to_win2 = round((num2/2)+1)"
   ]
  },
  {
   "cell_type": "code",
   "execution_count": 25,
   "id": "8c90635d",
   "metadata": {},
   "outputs": [],
   "source": [
    "cpu_score2 = []\n",
    "if who_won2() == \"1\":\n",
    "    cpu_score2 += 1\n",
    "\n",
    "player_score2 = []\n",
    "if who_won2() == \"2\":\n",
    "    player_score2 += 1"
   ]
  },
  {
   "cell_type": "code",
   "execution_count": 13,
   "id": "29a16da1",
   "metadata": {},
   "outputs": [],
   "source": [
    "\n",
    "listacompu2 = random.choice(gestures2)\n"
   ]
  },
  {
   "cell_type": "code",
   "execution_count": 26,
   "id": "e94ba1f6",
   "metadata": {},
   "outputs": [],
   "source": [
    "def computer_choice2():\n",
    "    return listacompu2\n",
    "\n"
   ]
  },
  {
   "cell_type": "code",
   "execution_count": 27,
   "id": "c32e27d3",
   "metadata": {},
   "outputs": [
    {
     "name": "stdout",
     "output_type": "stream",
     "text": [
      "hola jugador, selecciona entre rock, paper, scissors, lizard, spook : spock\n"
     ]
    }
   ],
   "source": [
    "jugador2 = input(\"hola jugador, selecciona entre rock, paper, scissors, lizard, spook : \")"
   ]
  },
  {
   "cell_type": "code",
   "execution_count": 16,
   "id": "7f20960d",
   "metadata": {},
   "outputs": [],
   "source": [
    "\n",
    "def player_choice2():\n",
    "    return jugador2"
   ]
  },
  {
   "cell_type": "code",
   "execution_count": null,
   "id": "1c90d9e8",
   "metadata": {},
   "outputs": [],
   "source": [
    "#The function should return 0 if there is a tie, 1 if the computer wins and 2 if the player wins."
   ]
  },
  {
   "cell_type": "code",
   "execution_count": 18,
   "id": "6e357b9b",
   "metadata": {},
   "outputs": [],
   "source": [
    "def who_won2():\n",
    "    if computer_choice2() == player_choice2():\n",
    "            return 0\n",
    "        \n",
    "    elif player_choice2() == \"rock\":\n",
    "        if computer_choice2() == \"scissors\":\n",
    "            return 2\n",
    "        elif computer_choice2() == \"lizard\":\n",
    "            return 2\n",
    "        else:\n",
    "            return 1\n",
    "        \n",
    "    elif player_choice2() == \"paper\":\n",
    "        if computer_choice2() == \"rock\":\n",
    "            return 2\n",
    "        elif computer_choice2() == \"spock\":\n",
    "            return 2\n",
    "        else:\n",
    "            return 1\n",
    "        \n",
    "    elif player_choice2() == \"scissors\":\n",
    "        if computer_choice2() == \"paper\":\n",
    "            return 2\n",
    "        elif computer_choice2() == \"lizard\":\n",
    "            return 2\n",
    "        else:\n",
    "            return 1\n",
    "        \n",
    "    elif player_choice2() == \"lizard\":\n",
    "        if computer_choice2() == \"paper\":\n",
    "            return 2\n",
    "        elif computer_choice2() == \"spock\":\n",
    "            return 2\n",
    "        else:\n",
    "            return 1\n",
    "        \n",
    "    elif player_choice2() == \"spock\":\n",
    "        if computer_choice2() == \"scissors\":\n",
    "            return 2\n",
    "        elif computer_choice2() == \"rock\":\n",
    "            return 2\n",
    "        else:\n",
    "            return 1\n"
   ]
  },
  {
   "cell_type": "code",
   "execution_count": 21,
   "id": "493f5199",
   "metadata": {},
   "outputs": [],
   "source": [
    "def choicejc_ww2():\n",
    "    cc2 = computer_choice2()\n",
    "    pc2 = player_choice2()\n",
    "    ww2 = who_won2()\n",
    "    return cc2, pc2, ww2\n"
   ]
  },
  {
   "cell_type": "code",
   "execution_count": 28,
   "id": "0891cf50",
   "metadata": {},
   "outputs": [
    {
     "data": {
      "text/plain": [
       "('scissors', 'spock', 2)"
      ]
     },
     "execution_count": 28,
     "metadata": {},
     "output_type": "execute_result"
    }
   ],
   "source": [
    "choicejc_ww2()"
   ]
  },
  {
   "cell_type": "code",
   "execution_count": null,
   "id": "87b4e5e2",
   "metadata": {},
   "outputs": [],
   "source": []
  }
 ],
 "metadata": {
  "kernelspec": {
   "display_name": "Python 3",
   "language": "python",
   "name": "python3"
  },
  "language_info": {
   "codemirror_mode": {
    "name": "ipython",
    "version": 3
   },
   "file_extension": ".py",
   "mimetype": "text/x-python",
   "name": "python",
   "nbconvert_exporter": "python",
   "pygments_lexer": "ipython3",
   "version": "3.8.5"
  },
  "toc": {
   "base_numbering": 1,
   "nav_menu": {},
   "number_sections": true,
   "sideBar": true,
   "skip_h1_title": false,
   "title_cell": "Table of Contents",
   "title_sidebar": "Contents",
   "toc_cell": false,
   "toc_position": {},
   "toc_section_display": true,
   "toc_window_display": false
  }
 },
 "nbformat": 4,
 "nbformat_minor": 5
}
