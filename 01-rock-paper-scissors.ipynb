{
 "cells": [
  {
   "cell_type": "markdown",
   "metadata": {},
   "source": [
    "<img src=\"https://bit.ly/2VnXWr2\" width=\"100\" align=\"left\">"
   ]
  },
  {
   "cell_type": "markdown",
   "metadata": {},
   "source": [
    "# Rock, Paper & Scissors\n",
    "\n",
    "Let's play the famous game against our computer. You can check the rules [here](https://en.wikipedia.org/wiki/Rock%E2%80%93paper%E2%80%93scissors). \n",
    "\n",
    "## Task\n",
    "Create a program that imitates the playability of the well known game of rock, paper, scissors. Follow the guidelines provided.\n",
    "\n",
    "## Tools\n",
    "1. Loop: **for/while**\n",
    "2. Functions: **input(), print()...**\n",
    "3. Conditional statements: **if, elif, else**\n",
    "4. Definition of functions. Modular programming\n",
    "5. Import modules\n",
    "\n",
    "**To solve this challenge, the use of functions is recommended.**\n",
    "\n",
    "#### 1. Import the choice function of the random module."
   ]
  },
  {
   "cell_type": "code",
   "execution_count": 2,
   "metadata": {},
   "outputs": [],
   "source": [
    "import random"
   ]
  },
  {
   "cell_type": "code",
   "execution_count": 3,
   "metadata": {},
   "outputs": [
    {
     "data": {
      "text/plain": [
       "2"
      ]
     },
     "execution_count": 3,
     "metadata": {},
     "output_type": "execute_result"
    }
   ],
   "source": [
    "random.choice([1,2,3,4,5,6])"
   ]
  },
  {
   "cell_type": "markdown",
   "metadata": {},
   "source": [
    "#### 2. Create a list that includes the 3 possible gesture options of the game: 'rock', 'paper' or 'scissors'. Store the list in a variable called `gestures`."
   ]
  },
  {
   "cell_type": "code",
   "execution_count": 4,
   "metadata": {},
   "outputs": [],
   "source": [
    "gests = ['rock', 'paper', 'scissors']"
   ]
  },
  {
   "cell_type": "markdown",
   "metadata": {},
   "source": [
    "#### 3. Create a variable called `n_rounds` to store the maximum number of rounds to play in a game. \n",
    "Remember that the number of rounds must be odd: 1, 3, 5, ..."
   ]
  },
  {
   "cell_type": "code",
   "execution_count": 5,
   "metadata": {},
   "outputs": [],
   "source": [
    "n_rounds = 0"
   ]
  },
  {
   "cell_type": "markdown",
   "metadata": {},
   "source": [
    "#### 4. Create a variable called `rounds_to_win` to store the number of rounds that a player must win to win the game.\n",
    "**Hint**: the value stored in `rounds_to_win` depends on the value of `n_rounds`. "
   ]
  },
  {
   "cell_type": "code",
   "execution_count": 6,
   "metadata": {},
   "outputs": [],
   "source": [
    "rounds_to_win = int(n_rounds/2) + 1"
   ]
  },
  {
   "cell_type": "markdown",
   "metadata": {},
   "source": [
    "#### 5. Create two variables to store the number of rounds that the computer and the player have won. Call these variables `cpu_score` and `player_score`."
   ]
  },
  {
   "cell_type": "code",
   "execution_count": 7,
   "metadata": {},
   "outputs": [],
   "source": [
    "cpu_score = 0\n",
    "player_score = 0"
   ]
  },
  {
   "cell_type": "markdown",
   "metadata": {},
   "source": [
    "#### 6. Define a function that randomly returns one of the 3 gesture options.\n",
    "You will use this function to simulate the gesture choice of the computer. "
   ]
  },
  {
   "cell_type": "code",
   "execution_count": 8,
   "metadata": {},
   "outputs": [],
   "source": [
    "def random_selector(gests):\n",
    "    return random.choice(gests)"
   ]
  },
  {
   "cell_type": "code",
   "execution_count": 9,
   "metadata": {},
   "outputs": [
    {
     "data": {
      "text/plain": [
       "'rock'"
      ]
     },
     "execution_count": 9,
     "metadata": {},
     "output_type": "execute_result"
    }
   ],
   "source": [
    "random_selector(gests)"
   ]
  },
  {
   "cell_type": "markdown",
   "metadata": {},
   "source": [
    "#### 7. Define a function that asks the player which is the gesture he or she wants to show: 'rock', 'paper' or 'scissors'.\n",
    "The player should only be allowed to choose one of the 3 gesture options. If the player's choice is not rock, paper or scissors, keep asking until it is."
   ]
  },
  {
   "cell_type": "code",
   "execution_count": 10,
   "metadata": {},
   "outputs": [],
   "source": [
    "def player_move():\n",
    "    choice = str(input(\"Make your move: \"))\n",
    "    while choice not in gests:\n",
    "        choice = input(\"Please enter a correct move: \")\n",
    "    return choice"
   ]
  },
  {
   "cell_type": "code",
   "execution_count": 11,
   "metadata": {},
   "outputs": [
    {
     "name": "stdout",
     "output_type": "stream",
     "text": [
      "Make your move: water\n",
      "Please enter a correct move: rock\n"
     ]
    },
    {
     "data": {
      "text/plain": [
       "'rock'"
      ]
     },
     "execution_count": 11,
     "metadata": {},
     "output_type": "execute_result"
    }
   ],
   "source": [
    "player_move()"
   ]
  },
  {
   "cell_type": "markdown",
   "metadata": {},
   "source": [
    "#### 8. Define a function that checks who won a round. \n",
    "The function should return 0 if there is a tie, 1 if the computer wins and 2 if the player wins."
   ]
  },
  {
   "cell_type": "code",
   "execution_count": 12,
   "metadata": {},
   "outputs": [],
   "source": [
    "def game(player_choice, cpu_choice):\n",
    "    \n",
    "    if player_choice == cpu_choice:\n",
    "        return 0\n",
    "    elif player_choice == \"rock\":\n",
    "        if cpu_choice == \"paper\":\n",
    "            return 1\n",
    "        else:\n",
    "            return 2\n",
    "    elif player_choice == \"paper\":\n",
    "        if cpu_choice == \"scissors\":\n",
    "            return 1\n",
    "        else:\n",
    "            return 2\n",
    "    elif player_choice == \"scissors\":\n",
    "        if cpu_choice == \"rock\":\n",
    "            return 1\n",
    "        else:\n",
    "            return 2"
   ]
  },
  {
   "cell_type": "code",
   "execution_count": 13,
   "metadata": {},
   "outputs": [
    {
     "name": "stdout",
     "output_type": "stream",
     "text": [
      "Make your move: water\n",
      "Please enter a correct move: paper\n"
     ]
    },
    {
     "data": {
      "text/plain": [
       "1"
      ]
     },
     "execution_count": 13,
     "metadata": {},
     "output_type": "execute_result"
    }
   ],
   "source": [
    "game(player_move(), random_selector(gests))"
   ]
  },
  {
   "cell_type": "markdown",
   "metadata": {},
   "source": [
    "#### 9. Define a function that prints the choice of the computer, the choice of the player and a message that announces who won the current round. \n",
    "You should also use this function to update the variables that count the number of rounds that the computer and the player have won. The score of the winner increases by one point. If there is a tie, the score does not increase."
   ]
  },
  {
   "cell_type": "code",
   "execution_count": 14,
   "metadata": {},
   "outputs": [],
   "source": [
    "def round_outcome():\n",
    "    player_choice = player_move()\n",
    "    cpu_choice = random_selector(gests)\n",
    "    game_out = game(player_choice, cpu_choice) \n",
    "    \n",
    "    print(f\"The player move was {player_choice}\")\n",
    "    print(f\"The cpu move was {cpu_choice}\")\n",
    "        \n",
    "    if game_out == 0:\n",
    "        print(\"The round ended in a tie\")\n",
    "        return 0\n",
    "    elif game_out == 1:\n",
    "        print(\"The cpu won this round\")\n",
    "        return 1\n",
    "    elif game_out == 2:\n",
    "        print(\"The player won this round\")\n",
    "        return 2"
   ]
  },
  {
   "cell_type": "code",
   "execution_count": 15,
   "metadata": {},
   "outputs": [
    {
     "name": "stdout",
     "output_type": "stream",
     "text": [
      "Make your move: rock\n",
      "The player move was rock\n",
      "The cpu move was scissors\n",
      "The player won this round\n"
     ]
    },
    {
     "data": {
      "text/plain": [
       "2"
      ]
     },
     "execution_count": 15,
     "metadata": {},
     "output_type": "execute_result"
    }
   ],
   "source": [
    "round_outcome()"
   ]
  },
  {
   "cell_type": "markdown",
   "metadata": {},
   "source": [
    "#### 10. Now it's time to code the execution of the game using the functions and variables you defined above. \n",
    "\n",
    "First, create a loop structure that repeats while no player reaches the minimum score necessary to win and the number of rounds is less than the maximum number of rounds to play in a game.  \n",
    "\n",
    "Inside the loop, use the functions and variables above to create the execution of a round: ask for the player's choice, generate the random choice of the computer, show the round results, update the scores, etc. "
   ]
  },
  {
   "cell_type": "code",
   "execution_count": 16,
   "metadata": {},
   "outputs": [
    {
     "name": "stdout",
     "output_type": "stream",
     "text": [
      "Please enter number of rounds you want to play: 4\n",
      "\n",
      "\n",
      "Make your move: rock\n",
      "The player move was rock\n",
      "The cpu move was paper\n",
      "The cpu won this round\n",
      "Current cpu score is: 1\n",
      "Current player score is: 0\n",
      "\n",
      "\n",
      "Make your move: paper\n",
      "The player move was paper\n",
      "The cpu move was paper\n",
      "The round ended in a tie\n",
      "Current cpu score is: 1\n",
      "Current player score is: 0\n",
      "\n",
      "\n",
      "Make your move: paper\n",
      "The player move was paper\n",
      "The cpu move was scissors\n",
      "The cpu won this round\n",
      "Current cpu score is: 2\n",
      "Current player score is: 0\n",
      "\n",
      "\n",
      "Make your move: scissors\n",
      "The player move was scissors\n",
      "The cpu move was scissors\n",
      "The round ended in a tie\n",
      "Current cpu score is: 2\n",
      "Current player score is: 0\n",
      "\n",
      "\n"
     ]
    }
   ],
   "source": [
    "n_rounds = int(input(\"Please enter number of rounds you want to play: \"))\n",
    "rounds_to_win = int(n_rounds / 2) + 1\n",
    "cpu_score = 0\n",
    "player_score = 0\n",
    "game_count = 0\n",
    "\n",
    "print('\\n')\n",
    "\n",
    "while cpu_score < rounds_to_win and player_score < rounds_to_win and game_count < n_rounds:\n",
    "    round_output = round_outcome()\n",
    "    game_count += 1\n",
    "    if round_output == 1:\n",
    "        cpu_score += 1\n",
    "    elif round_output == 2:\n",
    "        player_score += 1\n",
    "        \n",
    "    print(\"Current cpu score is:\", cpu_score)\n",
    "    print(\"Current player score is:\", player_score)\n",
    "    print('\\n')"
   ]
  },
  {
   "cell_type": "markdown",
   "metadata": {},
   "source": [
    "#### 11. Print the winner of the game based on who won more rounds.\n",
    "Remember that the game might be tied. "
   ]
  },
  {
   "cell_type": "code",
   "execution_count": 18,
   "metadata": {},
   "outputs": [
    {
     "name": "stdout",
     "output_type": "stream",
     "text": [
      "Please enter number of rounds you want to play: 4\n",
      "\n",
      "\n",
      "Make your move: rock\n",
      "The player move was rock\n",
      "The cpu move was scissors\n",
      "The player won this round\n",
      "Current cpu score is: 0\n",
      "Current player score is: 1\n",
      "\n",
      "\n",
      "Make your move: paper\n",
      "The player move was paper\n",
      "The cpu move was paper\n",
      "The round ended in a tie\n",
      "Current cpu score is: 0\n",
      "Current player score is: 1\n",
      "\n",
      "\n",
      "Make your move: scissors\n",
      "The player move was scissors\n",
      "The cpu move was rock\n",
      "The cpu won this round\n",
      "Current cpu score is: 1\n",
      "Current player score is: 1\n",
      "\n",
      "\n",
      "Make your move: rock\n",
      "The player move was rock\n",
      "The cpu move was scissors\n",
      "The player won this round\n",
      "Current cpu score is: 1\n",
      "Current player score is: 2\n",
      "\n",
      "\n",
      "Congrats! You won the game!\n"
     ]
    }
   ],
   "source": [
    "n_rounds = int(input(\"Please enter number of rounds you want to play: \"))\n",
    "rounds_to_win = int(n_rounds / 2) + 1\n",
    "cpu_score = 0\n",
    "player_score = 0\n",
    "game_count = 0\n",
    "\n",
    "print('\\n')\n",
    "\n",
    "while cpu_score < rounds_to_win and player_score < rounds_to_win and game_count < n_rounds:\n",
    "    round_output = round_outcome()\n",
    "    game_count += 1\n",
    "    if round_output == 1:\n",
    "        cpu_score += 1\n",
    "    elif round_output == 2:\n",
    "        player_score += 1\n",
    "        \n",
    "    print(\"Current cpu score is:\", cpu_score)\n",
    "    print(\"Current player score is:\", player_score)\n",
    "    print('\\n')\n",
    "    \n",
    "if cpu_score > player_score:\n",
    "    print(\"The CPU won the game!\")\n",
    "elif player_score > cpu_score:\n",
    "    print(\"Congrats! You won the game!\")\n",
    "else:\n",
    "    print(\"It's a tie!\")"
   ]
  },
  {
   "cell_type": "code",
   "execution_count": null,
   "metadata": {},
   "outputs": [],
   "source": []
  }
 ],
 "metadata": {
  "kernelspec": {
   "display_name": "ironhack",
   "language": "python",
   "name": "ironhack"
  },
  "language_info": {
   "codemirror_mode": {
    "name": "ipython",
    "version": 3
   },
   "file_extension": ".py",
   "mimetype": "text/x-python",
   "name": "python",
   "nbconvert_exporter": "python",
   "pygments_lexer": "ipython3",
   "version": "3.8.10"
  }
 },
 "nbformat": 4,
 "nbformat_minor": 2
}
