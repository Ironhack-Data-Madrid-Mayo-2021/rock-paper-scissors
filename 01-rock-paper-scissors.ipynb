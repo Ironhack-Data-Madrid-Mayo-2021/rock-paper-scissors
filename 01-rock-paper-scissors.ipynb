{
 "cells": [
  {
   "cell_type": "markdown",
   "metadata": {},
   "source": [
    "<img src=\"https://bit.ly/2VnXWr2\" width=\"100\" align=\"left\">"
   ]
  },
  {
   "cell_type": "markdown",
   "metadata": {},
   "source": [
    "# Rock, Paper & Scissors\n",
    "\n",
    "Let's play the famous game against our computer. You can check the rules [here](https://en.wikipedia.org/wiki/Rock%E2%80%93paper%E2%80%93scissors). \n",
    "\n",
    "## Task\n",
    "Create a program that imitates the playability of the well known game of rock, paper, scissors. Follow the guidelines provided.\n",
    "\n",
    "## Tools\n",
    "1. Loop: **for/while**\n",
    "2. Functions: **input(), print()...**\n",
    "3. Conditional statements: **if, elif, else**\n",
    "4. Definition of functions. Modular programming\n",
    "5. Import modules\n",
    "\n",
    "**To solve this challenge, the use of functions is recommended.**\n",
    "\n",
    "#### 1. Import the choice function of the random module."
   ]
  },
  {
   "cell_type": "code",
   "execution_count": 1,
   "metadata": {},
   "outputs": [],
   "source": [
    "from random import *"
   ]
  },
  {
   "cell_type": "markdown",
   "metadata": {},
   "source": [
    "#### 2. Create a list that includes the 3 possible gesture options of the game: 'rock', 'paper' or 'scissors'. Store the list in a variable called `gestures`."
   ]
  },
  {
   "cell_type": "code",
   "execution_count": 2,
   "metadata": {},
   "outputs": [],
   "source": [
    "def f_create_gestures():\n",
    "    gestures = [\"rock\", \"paper\", \"scissors\"]\n",
    "    return gestures"
   ]
  },
  {
   "cell_type": "code",
   "execution_count": 3,
   "metadata": {},
   "outputs": [
    {
     "name": "stdout",
     "output_type": "stream",
     "text": [
      "['rock', 'paper', 'scissors']\n"
     ]
    }
   ],
   "source": [
    "listado = f_create_gestures()\n",
    "print(listado)"
   ]
  },
  {
   "cell_type": "markdown",
   "metadata": {},
   "source": [
    "#### 3. Create a variable called `n_rounds` to store the maximum number of rounds to play in a game. \n",
    "Remember that the number of rounds must be odd: 1, 3, 5, ..."
   ]
  },
  {
   "cell_type": "code",
   "execution_count": 31,
   "metadata": {},
   "outputs": [],
   "source": [
    "def f_number_rounds(verbose = False):\n",
    "    \"\"\"\n",
    "    Return an odd number associated with the total numbers of rounds\n",
    "    Args:\n",
    "        bool: verbose to switch on the prints in the function\n",
    "    Returns:\n",
    "        int: odd integer associated with the total numbers of rounds\n",
    "    \"\"\"\n",
    "    while True:\n",
    "        try:\n",
    "            n_rounds = int(input(\"How many rounds do you want to play?: \"))\n",
    "            if n_rounds % 2 != 0:\n",
    "                break\n",
    "            else:\n",
    "                print(\"Please provide an integer\")\n",
    "        except:\n",
    "            print(\"Please provide an integer\")\n",
    "    \n",
    "    return n_rounds"
   ]
  },
  {
   "cell_type": "code",
   "execution_count": 34,
   "metadata": {},
   "outputs": [
    {
     "name": "stdout",
     "output_type": "stream",
     "text": [
      "How many rounds do you want to play?: 6\n",
      "Please provide an integer\n",
      "How many rounds do you want to play?: sadfg\n",
      "Please provide an integer\n",
      "How many rounds do you want to play?: 7\n"
     ]
    },
    {
     "data": {
      "text/plain": [
       "7"
      ]
     },
     "execution_count": 34,
     "metadata": {},
     "output_type": "execute_result"
    }
   ],
   "source": [
    "f_number_rounds(True)"
   ]
  },
  {
   "cell_type": "markdown",
   "metadata": {},
   "source": [
    "#### 4. Create a variable called `rounds_to_win` to store the number of rounds that a player must win to win the game.\n",
    "**Hint**: the value stored in `rounds_to_win` depends on the value of `n_rounds`. "
   ]
  },
  {
   "cell_type": "code",
   "execution_count": 3,
   "metadata": {},
   "outputs": [],
   "source": [
    "def f_rounds_to_win(n_rounds):\n",
    "    rounds_to_win = int(n_rounds / 2) + 1\n",
    "    return rounds_to_win"
   ]
  },
  {
   "cell_type": "code",
   "execution_count": 5,
   "metadata": {},
   "outputs": [
    {
     "name": "stdout",
     "output_type": "stream",
     "text": [
      "4\n"
     ]
    }
   ],
   "source": [
    "print(f_rounds_to_win(7))"
   ]
  },
  {
   "cell_type": "markdown",
   "metadata": {},
   "source": [
    "#### 5. Create two variables to store the number of rounds that the computer and the player have won. Call these variables `cpu_score` and `player_score`."
   ]
  },
  {
   "cell_type": "code",
   "execution_count": 4,
   "metadata": {},
   "outputs": [],
   "source": [
    "def f_inital_scores():\n",
    "    player_score = 0\n",
    "    cpu_score = 0\n",
    "    return [player_score, cpu_score]"
   ]
  },
  {
   "cell_type": "code",
   "execution_count": 8,
   "metadata": {},
   "outputs": [
    {
     "name": "stdout",
     "output_type": "stream",
     "text": [
      "[0, 0]\n"
     ]
    }
   ],
   "source": [
    "print(f_inital_scores())"
   ]
  },
  {
   "cell_type": "markdown",
   "metadata": {},
   "source": [
    "#### 6. Define a function that randomly returns one of the 3 gesture options.\n",
    "You will use this function to simulate the gesture choice of the computer. "
   ]
  },
  {
   "cell_type": "code",
   "execution_count": 5,
   "metadata": {},
   "outputs": [],
   "source": [
    "def f_random_gesture(gestures):\n",
    "    random_number = randint(0, len(gestures) - 1)\n",
    "    #print(f\"CPU choose {gestures[random_number]}\")\n",
    "    return gestures[random_number]"
   ]
  },
  {
   "cell_type": "code",
   "execution_count": 13,
   "metadata": {},
   "outputs": [
    {
     "data": {
      "text/plain": [
       "'rock'"
      ]
     },
     "execution_count": 13,
     "metadata": {},
     "output_type": "execute_result"
    }
   ],
   "source": [
    "f_random_gesture(f_create_gestures())"
   ]
  },
  {
   "cell_type": "markdown",
   "metadata": {},
   "source": [
    "#### 7. Define a function that asks the player which is the gesture he or she wants to show: 'rock', 'paper' or 'scissors'.\n",
    "The player should only be allowed to choose one of the 3 gesture options. If the player's choice is not rock, paper or scissors, keep asking until it is."
   ]
  },
  {
   "cell_type": "code",
   "execution_count": 6,
   "metadata": {},
   "outputs": [],
   "source": [
    "def f_choose_gesture(gestures):\n",
    "    gesture = input(\"Which gesture do you choose? (rock, paper or scissors): \").lower()\n",
    "    \n",
    "    while gesture not in gestures: \n",
    "        gesture = input(\"Which gesture do you choose? (rock, paper or scissors): \").lower()\n",
    "    \n",
    "    return gesture"
   ]
  },
  {
   "cell_type": "code",
   "execution_count": 15,
   "metadata": {},
   "outputs": [
    {
     "name": "stdout",
     "output_type": "stream",
     "text": [
      "Which gesture do you choose? (rock, paper or scissors): rock\n",
      "rock\n"
     ]
    }
   ],
   "source": [
    "print(f_choose_gesture(f_create_gestures()))"
   ]
  },
  {
   "cell_type": "markdown",
   "metadata": {},
   "source": [
    "#### 8. Define a function that checks who won a round. \n",
    "The function should return 0 if there is a tie, 1 if the computer wins and 2 if the player wins."
   ]
  },
  {
   "cell_type": "code",
   "execution_count": 7,
   "metadata": {},
   "outputs": [],
   "source": [
    "def f_who_won(player_gesture, cpu_gesture):\n",
    "    #print(cpu_gesture)\n",
    "    if player_gesture == \"rock\" and cpu_gesture == \"rock\":\n",
    "        #print(\"Draw!\")\n",
    "        return 0\n",
    "    elif player_gesture == \"rock\" and cpu_gesture == \"paper\":\n",
    "        #print(\"CPU wins!\")\n",
    "        return 1\n",
    "    elif player_gesture == \"rock\" and cpu_gesture == \"scissors\":\n",
    "        #print(\"Player wins!\")\n",
    "        return 2\n",
    "    elif player_gesture == \"paper\" and cpu_gesture == \"paper\":\n",
    "        #print(\"Draw!\")\n",
    "        return 0\n",
    "    elif player_gesture == \"paper\" and cpu_gesture ==\"scissors\":\n",
    "        #print(\"CPU wins!\")\n",
    "        return 1\n",
    "    elif player_gesture == \"paper\" and cpu_gesture == \"rock\":\n",
    "        #print(\"Player wins!\")\n",
    "        return 2\n",
    "    elif player_gesture == \"scissors\" and cpu_gesture == \"scissors\":\n",
    "        #print(\"Draw!\")\n",
    "        return 0\n",
    "    elif player_gesture == \"scissors\" and cpu_gesture == \"rock\":\n",
    "        #print(\"CPU wins!\")\n",
    "        return 1\n",
    "    else:\n",
    "        #print(\"Player wins!\")\n",
    "        return 2"
   ]
  },
  {
   "cell_type": "code",
   "execution_count": 21,
   "metadata": {},
   "outputs": [
    {
     "name": "stdout",
     "output_type": "stream",
     "text": [
      "Which gesture do you choose? (rock, paper or scissors): rock\n",
      "paper\n",
      "1\n"
     ]
    }
   ],
   "source": [
    "print(f_who_won(f_choose_gesture(f_create_gestures()), f_random_gesture(f_create_gestures())))"
   ]
  },
  {
   "cell_type": "markdown",
   "metadata": {},
   "source": [
    "#### 9. Define a function that prints the choice of the computer, the choice of the player and a message that announces who won the current round. \n",
    "You should also use this function to update the variables that count the number of rounds that the computer and the player have won. The score of the winner increases by one point. If there is a tie, the score does not increase."
   ]
  },
  {
   "cell_type": "code",
   "execution_count": 8,
   "metadata": {},
   "outputs": [],
   "source": [
    "def f_printing(player_choice, cpu_choice, who_won, player_score, cpu_score):\n",
    "    \n",
    "    print(f\"Player choose {player_choice}\")\n",
    "    print(f\"CPU choose {cpu_choice}\")\n",
    "    \n",
    "    if who_won == 0:\n",
    "        print(\"It's a DRAW!\")\n",
    "    elif who_won == 1:\n",
    "        print(\"CPU WON!\")\n",
    "        cpu_score += 1\n",
    "    else:\n",
    "        print(\"Player WON!\")\n",
    "        player_score += 1\n",
    "    \n",
    "    return [player_score, cpu_score]    "
   ]
  },
  {
   "cell_type": "code",
   "execution_count": null,
   "metadata": {},
   "outputs": [],
   "source": [
    "gestures_list = f_create_gestures()\n",
    "\n",
    "player_choice = f_choose_gesture(gestures_list)\n",
    "cpu_choice = f_random_gesture(gestures_list)\n",
    "\n",
    "who_won = f_who_won(player_choice, cpu_choice)\n",
    "\n",
    "scores = f_printing(player_choice, cpu_choice, who_won, f_inital_scores()[0], f_inital_scores()[1])\n",
    "\n",
    "print(scores)"
   ]
  },
  {
   "cell_type": "markdown",
   "metadata": {},
   "source": [
    "#### 10. Now it's time to code the execution of the game using the functions and variables you defined above. \n",
    "\n",
    "First, create a loop structure that repeats while no player reaches the minimum score necessary to win and the number of rounds is less than the maximum number of rounds to play in a game.  \n",
    "\n",
    "Inside the loop, use the functions and variables above to create the execution of a round: ask for the player's choice, generate the random choice of the computer, show the round results, update the scores, etc. "
   ]
  },
  {
   "cell_type": "code",
   "execution_count": 9,
   "metadata": {},
   "outputs": [
    {
     "ename": "KeyboardInterrupt",
     "evalue": "Interrupted by user",
     "output_type": "error",
     "traceback": [
      "\u001b[0;31m---------------------------------------------------------------------------\u001b[0m",
      "\u001b[0;31mKeyboardInterrupt\u001b[0m                         Traceback (most recent call last)",
      "\u001b[0;32m<ipython-input-9-f0baf072d6d0>\u001b[0m in \u001b[0;36m<module>\u001b[0;34m\u001b[0m\n\u001b[1;32m      8\u001b[0m \u001b[0;32mwhile\u001b[0m \u001b[0mplayer_score\u001b[0m \u001b[0;34m<\u001b[0m \u001b[0mround_to_win\u001b[0m \u001b[0;32mand\u001b[0m \u001b[0mcpu_score\u001b[0m \u001b[0;34m<\u001b[0m \u001b[0mround_to_win\u001b[0m\u001b[0;34m:\u001b[0m\u001b[0;34m\u001b[0m\u001b[0;34m\u001b[0m\u001b[0m\n\u001b[1;32m      9\u001b[0m \u001b[0;34m\u001b[0m\u001b[0m\n\u001b[0;32m---> 10\u001b[0;31m     \u001b[0mplayer_choice\u001b[0m \u001b[0;34m=\u001b[0m \u001b[0mf_choose_gesture\u001b[0m\u001b[0;34m(\u001b[0m\u001b[0mgestures_list\u001b[0m\u001b[0;34m)\u001b[0m\u001b[0;34m\u001b[0m\u001b[0;34m\u001b[0m\u001b[0m\n\u001b[0m\u001b[1;32m     11\u001b[0m     \u001b[0mcpu_choice\u001b[0m \u001b[0;34m=\u001b[0m \u001b[0mf_random_gesture\u001b[0m\u001b[0;34m(\u001b[0m\u001b[0mgestures_list\u001b[0m\u001b[0;34m)\u001b[0m\u001b[0;34m\u001b[0m\u001b[0;34m\u001b[0m\u001b[0m\n\u001b[1;32m     12\u001b[0m \u001b[0;34m\u001b[0m\u001b[0m\n",
      "\u001b[0;32m<ipython-input-6-39ba55934b64>\u001b[0m in \u001b[0;36mf_choose_gesture\u001b[0;34m(gestures)\u001b[0m\n\u001b[1;32m      1\u001b[0m \u001b[0;32mdef\u001b[0m \u001b[0mf_choose_gesture\u001b[0m\u001b[0;34m(\u001b[0m\u001b[0mgestures\u001b[0m\u001b[0;34m)\u001b[0m\u001b[0;34m:\u001b[0m\u001b[0;34m\u001b[0m\u001b[0;34m\u001b[0m\u001b[0m\n\u001b[0;32m----> 2\u001b[0;31m     \u001b[0mgesture\u001b[0m \u001b[0;34m=\u001b[0m \u001b[0minput\u001b[0m\u001b[0;34m(\u001b[0m\u001b[0;34m\"Which gesture do you choose? (rock, paper or scissors): \"\u001b[0m\u001b[0;34m)\u001b[0m\u001b[0;34m.\u001b[0m\u001b[0mlower\u001b[0m\u001b[0;34m(\u001b[0m\u001b[0;34m)\u001b[0m\u001b[0;34m\u001b[0m\u001b[0;34m\u001b[0m\u001b[0m\n\u001b[0m\u001b[1;32m      3\u001b[0m \u001b[0;34m\u001b[0m\u001b[0m\n\u001b[1;32m      4\u001b[0m     \u001b[0;32mwhile\u001b[0m \u001b[0mgesture\u001b[0m \u001b[0;32mnot\u001b[0m \u001b[0;32min\u001b[0m \u001b[0mgestures\u001b[0m\u001b[0;34m:\u001b[0m\u001b[0;34m\u001b[0m\u001b[0;34m\u001b[0m\u001b[0m\n\u001b[1;32m      5\u001b[0m         \u001b[0mgesture\u001b[0m \u001b[0;34m=\u001b[0m \u001b[0minput\u001b[0m\u001b[0;34m(\u001b[0m\u001b[0;34m\"Which gesture do you choose? (rock, paper or scissors): \"\u001b[0m\u001b[0;34m)\u001b[0m\u001b[0;34m.\u001b[0m\u001b[0mlower\u001b[0m\u001b[0;34m(\u001b[0m\u001b[0;34m)\u001b[0m\u001b[0;34m\u001b[0m\u001b[0;34m\u001b[0m\u001b[0m\n",
      "\u001b[0;32m/usr/local/lib/python3.8/dist-packages/ipykernel/kernelbase.py\u001b[0m in \u001b[0;36mraw_input\u001b[0;34m(self, prompt)\u001b[0m\n\u001b[1;32m    846\u001b[0m                 \u001b[0;34m\"raw_input was called, but this frontend does not support input requests.\"\u001b[0m\u001b[0;34m\u001b[0m\u001b[0;34m\u001b[0m\u001b[0m\n\u001b[1;32m    847\u001b[0m             )\n\u001b[0;32m--> 848\u001b[0;31m         return self._input_request(str(prompt),\n\u001b[0m\u001b[1;32m    849\u001b[0m             \u001b[0mself\u001b[0m\u001b[0;34m.\u001b[0m\u001b[0m_parent_ident\u001b[0m\u001b[0;34m,\u001b[0m\u001b[0;34m\u001b[0m\u001b[0;34m\u001b[0m\u001b[0m\n\u001b[1;32m    850\u001b[0m             \u001b[0mself\u001b[0m\u001b[0;34m.\u001b[0m\u001b[0m_parent_header\u001b[0m\u001b[0;34m,\u001b[0m\u001b[0;34m\u001b[0m\u001b[0;34m\u001b[0m\u001b[0m\n",
      "\u001b[0;32m/usr/local/lib/python3.8/dist-packages/ipykernel/kernelbase.py\u001b[0m in \u001b[0;36m_input_request\u001b[0;34m(self, prompt, ident, parent, password)\u001b[0m\n\u001b[1;32m    890\u001b[0m             \u001b[0;32mexcept\u001b[0m \u001b[0mKeyboardInterrupt\u001b[0m\u001b[0;34m:\u001b[0m\u001b[0;34m\u001b[0m\u001b[0;34m\u001b[0m\u001b[0m\n\u001b[1;32m    891\u001b[0m                 \u001b[0;31m# re-raise KeyboardInterrupt, to truncate traceback\u001b[0m\u001b[0;34m\u001b[0m\u001b[0;34m\u001b[0m\u001b[0;34m\u001b[0m\u001b[0m\n\u001b[0;32m--> 892\u001b[0;31m                 \u001b[0;32mraise\u001b[0m \u001b[0mKeyboardInterrupt\u001b[0m\u001b[0;34m(\u001b[0m\u001b[0;34m\"Interrupted by user\"\u001b[0m\u001b[0;34m)\u001b[0m \u001b[0;32mfrom\u001b[0m \u001b[0;32mNone\u001b[0m\u001b[0;34m\u001b[0m\u001b[0;34m\u001b[0m\u001b[0m\n\u001b[0m\u001b[1;32m    893\u001b[0m             \u001b[0;32mexcept\u001b[0m \u001b[0mException\u001b[0m \u001b[0;32mas\u001b[0m \u001b[0me\u001b[0m\u001b[0;34m:\u001b[0m\u001b[0;34m\u001b[0m\u001b[0;34m\u001b[0m\u001b[0m\n\u001b[1;32m    894\u001b[0m                 \u001b[0mself\u001b[0m\u001b[0;34m.\u001b[0m\u001b[0mlog\u001b[0m\u001b[0;34m.\u001b[0m\u001b[0mwarning\u001b[0m\u001b[0;34m(\u001b[0m\u001b[0;34m\"Invalid Message:\"\u001b[0m\u001b[0;34m,\u001b[0m \u001b[0mexc_info\u001b[0m\u001b[0;34m=\u001b[0m\u001b[0;32mTrue\u001b[0m\u001b[0;34m)\u001b[0m\u001b[0;34m\u001b[0m\u001b[0;34m\u001b[0m\u001b[0m\n",
      "\u001b[0;31mKeyboardInterrupt\u001b[0m: Interrupted by user"
     ]
    }
   ],
   "source": [
    "gestures_list = f_create_gestures()\n",
    "\n",
    "round_to_win = f_rounds_to_win(5)\n",
    "\n",
    "player_score = 0\n",
    "cpu_score = 0 \n",
    "\n",
    "while player_score < round_to_win and cpu_score < round_to_win:\n",
    "        \n",
    "    player_choice = f_choose_gesture(gestures_list)\n",
    "    cpu_choice = f_random_gesture(gestures_list)\n",
    "    \n",
    "    who_won = f_who_won(player_choice, cpu_choice)\n",
    "    \n",
    "    round_score = f_printing(player_choice, cpu_choice, who_won, player_score, cpu_score)\n",
    "    \n",
    "    player_score, cpu_score = round_score[0], round_score[1]\n",
    "    \n",
    "    print(player_score, cpu_score)\n"
   ]
  },
  {
   "cell_type": "markdown",
   "metadata": {},
   "source": [
    "#### 11. Print the winner of the game based on who won more rounds.\n",
    "Remember that the game might be tied. "
   ]
  },
  {
   "cell_type": "code",
   "execution_count": 36,
   "metadata": {
    "scrolled": true
   },
   "outputs": [
    {
     "name": "stdout",
     "output_type": "stream",
     "text": [
      "How many rounds do you want to play?: 3\n",
      "Which gesture do you choose? (rock, paper or scissors): rock\n",
      "Player choose rock\n",
      "CPU choose scissors\n",
      "Player WON!\n",
      "1 0\n",
      "Which gesture do you choose? (rock, paper or scissors): paper\n",
      "Player choose paper\n",
      "CPU choose paper\n",
      "It's a DRAW!\n",
      "1 0\n",
      "Which gesture do you choose? (rock, paper or scissors): rock\n",
      "Player choose rock\n",
      "CPU choose paper\n",
      "CPU WON!\n",
      "1 1\n",
      "Which gesture do you choose? (rock, paper or scissors): scissors\n",
      "Player choose scissors\n",
      "CPU choose rock\n",
      "CPU WON!\n",
      "1 2\n",
      "YOU LOSE :(\n"
     ]
    }
   ],
   "source": [
    "gestures_list = f_create_gestures()\n",
    "\n",
    "round_to_win = f_rounds_to_win(f_number_rounds())\n",
    "\n",
    "player_score = 0\n",
    "cpu_score = 0 \n",
    "\n",
    "while player_score < round_to_win and cpu_score < round_to_win:\n",
    "        \n",
    "    player_choice = f_choose_gesture(gestures_list)\n",
    "    cpu_choice = f_random_gesture(gestures_list)\n",
    "    \n",
    "    who_won = f_who_won(player_choice, cpu_choice)\n",
    "    \n",
    "    round_score = f_printing(player_choice, cpu_choice, who_won, player_score, cpu_score)\n",
    "    \n",
    "    player_score, cpu_score = round_score[0], round_score[1]\n",
    "    \n",
    "    print(player_score, cpu_score)\n",
    "    \n",
    "if player_score > cpu_score:\n",
    "    print(\"PLAYER WON THE GAME!\")\n",
    "else:\n",
    "    print(\"YOU LOSE :(\")"
   ]
  }
 ],
 "metadata": {
  "kernelspec": {
   "display_name": "Python 3",
   "language": "python",
   "name": "python3"
  },
  "language_info": {
   "codemirror_mode": {
    "name": "ipython",
    "version": 3
   },
   "file_extension": ".py",
   "mimetype": "text/x-python",
   "name": "python",
   "nbconvert_exporter": "python",
   "pygments_lexer": "ipython3",
   "version": "3.8.5"
  }
 },
 "nbformat": 4,
 "nbformat_minor": 2
}
